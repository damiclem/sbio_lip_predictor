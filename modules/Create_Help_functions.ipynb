{
 "cells": [
  {
   "cell_type": "markdown",
   "metadata": {},
   "source": [
    "## Jupyter to create and test functions"
   ]
  },
  {
   "cell_type": "code",
   "execution_count": 137,
   "metadata": {},
   "outputs": [],
   "source": [
    "import pandas as pd\n",
    "import numpy as np\n",
    "import time"
   ]
  },
  {
   "cell_type": "markdown",
   "metadata": {},
   "source": [
    "### Functions"
   ]
  },
  {
   "cell_type": "code",
   "execution_count": 157,
   "metadata": {},
   "outputs": [],
   "source": [
    "def LIP_tagging(ds_original, ds_residues)\n",
    "    #ds_residues is the target where all information about the res are\n",
    "    #ds_original is the initial dataset\n",
    "    #For every protein we take the information of where LIP residue are\n",
    "    for i in range(0, np.shape(ds_original)[0]):\n",
    "        row = ds_original.iloc[i, :]\n",
    "        pdb = row[0]\n",
    "        chain = row[1]\n",
    "        start = row[2]\n",
    "        end = row[3]\n",
    "        #Now we set to 1 all the residue whose features are the one desired \n",
    "        ds_residues['LIP'][(ds_residues['PDB_ID'] == pdb)\n",
    "                           & (ds_residues['CHAIN_ID'] == chain)\n",
    "                           & (ds_residues['RES_ID'] <= end)\n",
    "                           & (ds_residues['RES_ID'] >= start)] = 1\n",
    "\n",
    "def down_sampling(df, number_of_samples, seed = 42):\n",
    "    noLIP_index = set(df[df['LIP'] == 0].index)\n",
    "    indexes = set(np.arange(0, np.shape(df)[0]))\n",
    "    sample = random.sample(noLIP_index, len(noLIP_index) - number_of_samples)\n",
    "    new_index = indexes.difference(sample)\n",
    "    df1 = df.iloc[list(new_index), :]\n",
    "    return df1"
   ]
  },
  {
   "cell_type": "markdown",
   "metadata": {},
   "source": [
    "### Examples"
   ]
  },
  {
   "cell_type": "code",
   "execution_count": 159,
   "metadata": {},
   "outputs": [
    {
     "name": "stdout",
     "output_type": "stream",
     "text": [
      "Before down samplings\n",
      "Number of LIP: 44703\n",
      "Number of noLIP: 45297\n",
      "------------------------\n",
      "Time: 0.10393667221069336\n",
      "------------------------\n",
      "After down samplings\n",
      "Number of LIP: 44703\n",
      "Number of noLIP: 44703\n"
     ]
    },
    {
     "data": {
      "text/html": [
       "<div>\n",
       "<style scoped>\n",
       "    .dataframe tbody tr th:only-of-type {\n",
       "        vertical-align: middle;\n",
       "    }\n",
       "\n",
       "    .dataframe tbody tr th {\n",
       "        vertical-align: top;\n",
       "    }\n",
       "\n",
       "    .dataframe thead th {\n",
       "        text-align: right;\n",
       "    }\n",
       "</style>\n",
       "<table border=\"1\" class=\"dataframe\">\n",
       "  <thead>\n",
       "    <tr style=\"text-align: right;\">\n",
       "      <th></th>\n",
       "      <th>LIP</th>\n",
       "    </tr>\n",
       "  </thead>\n",
       "  <tbody>\n",
       "    <tr>\n",
       "      <th>2</th>\n",
       "      <td>0</td>\n",
       "    </tr>\n",
       "    <tr>\n",
       "      <th>3</th>\n",
       "      <td>1</td>\n",
       "    </tr>\n",
       "    <tr>\n",
       "      <th>6</th>\n",
       "      <td>1</td>\n",
       "    </tr>\n",
       "    <tr>\n",
       "      <th>7</th>\n",
       "      <td>0</td>\n",
       "    </tr>\n",
       "    <tr>\n",
       "      <th>8</th>\n",
       "      <td>1</td>\n",
       "    </tr>\n",
       "  </tbody>\n",
       "</table>\n",
       "</div>"
      ],
      "text/plain": [
       "   LIP\n",
       "2    0\n",
       "3    1\n",
       "6    1\n",
       "7    0\n",
       "8    1"
      ]
     },
     "execution_count": 159,
     "metadata": {},
     "output_type": "execute_result"
    }
   ],
   "source": [
    "#Examples of down_sampling\n",
    "np.random.seed(38)\n",
    "df = pd.DataFrame(np.random.randint(0, 2, (90000, 2)), columns=['X','LIP'])\n",
    "print(\"Before down samplings\\nNumber of LIP: {}\".format(len(df['LIP'][df['LIP'] == 1])))\n",
    "print(\"Number of noLIP: {}\".format(len(df['LIP'][df['LIP'] == 0])))\n",
    "start = time.time()\n",
    "new_df = down_sampling2(df, 44703)\n",
    "end = time.time()\n",
    "print(\"------------------------\")\n",
    "print('Time: {}'.format(end-start))\n",
    "print('------------------------')\n",
    "print(\"After down samplings\\nNumber of LIP: {}\".format(len(new_df['LIP'][new_df['LIP'] == 1])))\n",
    "print(\"Number of noLIP: {}\".format(len(new_df['LIP'][new_df['LIP'] == 0])))\n",
    "df1.head()"
   ]
  }
 ],
 "metadata": {
  "kernelspec": {
   "display_name": "Python 3",
   "language": "python",
   "name": "python3"
  },
  "language_info": {
   "codemirror_mode": {
    "name": "ipython",
    "version": 3
   },
   "file_extension": ".py",
   "mimetype": "text/x-python",
   "name": "python",
   "nbconvert_exporter": "python",
   "pygments_lexer": "ipython3",
   "version": "3.6.8"
  }
 },
 "nbformat": 4,
 "nbformat_minor": 2
}
